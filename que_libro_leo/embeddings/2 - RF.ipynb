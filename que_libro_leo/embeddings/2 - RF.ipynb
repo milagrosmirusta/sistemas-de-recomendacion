{
 "cells": [
  {
   "cell_type": "code",
   "execution_count": null,
   "id": "38917fd8",
   "metadata": {},
   "outputs": [],
   "source": [
    "import pandas as pd\n",
    "from sklearn.model_selection import train_test_split\n",
    "from sklearn.ensemble import RandomForestRegressor\n",
    "from sklearn.metrics import mean_squared_error\n",
    "import numpy as np\n"
   ]
  },
  {
   "cell_type": "markdown",
   "id": "c8fba6ac",
   "metadata": {},
   "source": [
    "## Random Forest básico (con variables dummy y nada más)"
   ]
  },
  {
   "cell_type": "code",
   "execution_count": 2,
   "id": "7e73d945",
   "metadata": {},
   "outputs": [],
   "source": [
    "df_encoded = pd.read_csv(\"qll_limpio_encoded.csv\")"
   ]
  },
  {
   "cell_type": "code",
   "execution_count": 3,
   "id": "a6d8b067",
   "metadata": {},
   "outputs": [],
   "source": [
    "X = df_encoded.drop(columns=[\"rating\", \"id_lector\", \"id_libro\", \"nombre\", \"titulo\", \"editorial\", \"autor\",\"isbn\"])\n",
    "y = df_encoded[\"rating\"]\n"
   ]
  },
  {
   "cell_type": "code",
   "execution_count": 4,
   "id": "56f488b5",
   "metadata": {},
   "outputs": [
    {
     "name": "stdout",
     "output_type": "stream",
     "text": [
      "Columnas con texto o no numéricas:\n",
      "Index([], dtype='object')\n"
     ]
    }
   ],
   "source": [
    "non_numeric = X.select_dtypes(exclude=['number']).columns\n",
    "print(\"Columnas con texto o no numéricas:\")\n",
    "print(non_numeric)"
   ]
  },
  {
   "cell_type": "code",
   "execution_count": 8,
   "id": "f802a467",
   "metadata": {},
   "outputs": [
    {
     "name": "stdout",
     "output_type": "stream",
     "text": [
      "RMSE train: 1.8199\n",
      "RMSE test: 1.8171\n"
     ]
    }
   ],
   "source": [
    "X_train, X_test, y_train, y_test = train_test_split(\n",
    "    X, y, test_size=0.2, random_state=42\n",
    ")\n",
    "\n",
    "rf = RandomForestRegressor(\n",
    "    n_estimators=100,  \n",
    "    max_depth=5,     \n",
    "    n_jobs=-1,         \n",
    "    random_state=42\n",
    ")\n",
    "\n",
    "rf.fit(X_train, y_train)\n",
    "\n",
    "\n",
    "y_pred = rf.predict(X_test)\n",
    "\n",
    "\n",
    "rmse = np.sqrt(mean_squared_error(y_test, y_pred))\n",
    "y_pred_train = rf.predict(X_train)\n",
    "rmse_train = np.sqrt(mean_squared_error(y_train, y_pred_train))\n",
    "print(f\"RMSE train: {rmse_train:.4f}\")\n",
    "print(f\"RMSE test: {rmse:.4f}\")\n"
   ]
  },
  {
   "cell_type": "code",
   "execution_count": 9,
   "id": "1e61c961",
   "metadata": {},
   "outputs": [
    {
     "name": "stdout",
     "output_type": "stream",
     "text": [
      "count    468868.000000\n",
      "mean          7.254430\n",
      "std           1.836229\n",
      "min           1.000000\n",
      "25%           6.000000\n",
      "50%           7.000000\n",
      "75%           8.000000\n",
      "max          10.000000\n",
      "Name: rating, dtype: float64\n"
     ]
    },
    {
     "data": {
      "image/png": "[encoded data removed]",
      "text/plain": [
       "<Figure size 640x480 with 1 Axes>"
      ]
     },
     "metadata": {},
     "output_type": "display_data"
    }
   ],
   "source": [
    "import matplotlib.pyplot as plt\n",
    "\n",
    "print(df_encoded[\"rating\"].describe())\n",
    "\n",
    "plt.hist(df_encoded[\"rating\"], bins=10, edgecolor='k')\n",
    "plt.xlabel(\"Rating\")\n",
    "plt.ylabel(\"Frecuencia\")\n",
    "plt.title(\"Distribución de ratings\")\n",
    "plt.show()"
   ]
  },
  {
   "cell_type": "code",
   "execution_count": 10,
   "id": "561c1ff8",
   "metadata": {},
   "outputs": [
    {
     "name": "stdout",
     "output_type": "stream",
     "text": [
      "RMSE baseline (predice siempre la media): 1.8514\n"
     ]
    }
   ],
   "source": [
    "y_mean_pred = np.full_like(y_test, y_train.mean())\n",
    "rmse_naive = np.sqrt(mean_squared_error(y_test, y_mean_pred))\n",
    "print(f\"RMSE baseline (predice siempre la media): {rmse_naive:.4f}\")"
   ]
  }
 ],
 "metadata": {
  "kernelspec": {
   "display_name": "Python 3",
   "language": "python",
   "name": "python3"
  },
  "language_info": {
   "codemirror_mode": {
    "name": "ipython",
    "version": 3
   },
   "file_extension": ".py",
   "mimetype": "text/x-python",
   "name": "python",
   "nbconvert_exporter": "python",
   "pygments_lexer": "ipython3",
   "version": "3.12.10"
  }
 },
 "nbformat": 4,
 "nbformat_minor": 5
}
